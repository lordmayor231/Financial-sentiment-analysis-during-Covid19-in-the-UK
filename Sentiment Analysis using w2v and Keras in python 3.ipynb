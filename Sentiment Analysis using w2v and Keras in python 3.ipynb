{
 "cells": [
  {
   "cell_type": "markdown",
   "metadata": {},
   "source": [
    "# Imports"
   ]
  },
  {
   "cell_type": "code",
   "execution_count": 1,
   "metadata": {
    "scrolled": true
   },
   "outputs": [],
   "source": [
    "import pandas as pd # provide sql-like data manipulation tools. very handy.\n",
    "pd.options.mode.chained_assignment = None\n",
    "import numpy as np # high dimensional vector computing library.\n",
    "from copy import deepcopy\n",
    "from string import punctuation\n",
    "from random import shuffle\n",
    "import pickle\n",
    "import h5py\n",
    "import json\n",
    "import matplotlib.pyplot as plt\n",
    "import re\n",
    "\n",
    "import gensim\n",
    "from gensim.models.word2vec import Word2Vec # the word2vec model gensim class\n",
    "\n",
    "from tqdm import tqdm\n",
    "tqdm.pandas(desc=\"progress-bar\")\n",
    "\n",
    "from nltk.tokenize import TweetTokenizer # a tweet tokenizer from nltk.\n",
    "from nltk import word_tokenize\n",
    "\n",
    "from sklearn.preprocessing import scale\n",
    "from sklearn.model_selection import train_test_split\n",
    "from sklearn.feature_extraction.text import TfidfVectorizer\n",
    "\n",
    "from keras.preprocessing.image import ImageDataGenerator\n",
    "from keras.models import Sequential\n",
    "from keras.layers import Dense\n",
    "from keras.layers import Dropout\n",
    "from keras.layers import Flatten\n",
    "from keras.constraints import maxnorm\n",
    "from tensorflow.keras.optimizers import SGD\n",
    "from keras.layers.convolutional import Conv2D\n",
    "from keras.layers.convolutional import MaxPooling2D\n",
    "from keras.utils import np_utils\n",
    "from keras.callbacks import Callback\n",
    "from keras.models import model_from_json\n",
    "\n",
    "\n",
    "# importing bokeh library for interactive dataviz\n",
    "import bokeh.plotting as bp\n",
    "from bokeh.models import HoverTool, BoxSelectTool\n",
    "from bokeh.plotting import figure, show, output_notebook\n",
    "\n"
   ]
  },
  {
   "cell_type": "markdown",
   "metadata": {},
   "source": [
    "# Loading Data"
   ]
  },
  {
   "cell_type": "code",
   "execution_count": 2,
   "metadata": {},
   "outputs": [
    {
     "name": "stdout",
     "output_type": "stream",
     "text": [
      "dataset loaded with shape (8698, 3)\n"
     ]
    },
    {
     "data": {
      "text/html": [
       "<div>\n",
       "<style scoped>\n",
       "    .dataframe tbody tr th:only-of-type {\n",
       "        vertical-align: middle;\n",
       "    }\n",
       "\n",
       "    .dataframe tbody tr th {\n",
       "        vertical-align: top;\n",
       "    }\n",
       "\n",
       "    .dataframe thead th {\n",
       "        text-align: right;\n",
       "    }\n",
       "</style>\n",
       "<table border=\"1\" class=\"dataframe\">\n",
       "  <thead>\n",
       "    <tr style=\"text-align: right;\">\n",
       "      <th></th>\n",
       "      <th>Date</th>\n",
       "      <th>SentimentText</th>\n",
       "      <th>Sentiment</th>\n",
       "    </tr>\n",
       "  </thead>\n",
       "  <tbody>\n",
       "    <tr>\n",
       "      <th>0</th>\n",
       "      <td>2020-03-25 06:18:32+00:00</td>\n",
       "      <td>??Education is not only a ladder of opportuni...</td>\n",
       "      <td>0</td>\n",
       "    </tr>\n",
       "    <tr>\n",
       "      <th>1</th>\n",
       "      <td>2020-03-25 06:05:46+00:00</td>\n",
       "      <td>$GCLT news coming soon #fintech #finance https...</td>\n",
       "      <td>0</td>\n",
       "    </tr>\n",
       "    <tr>\n",
       "      <th>2</th>\n",
       "      <td>2020-03-25 06:35:29+00:00</td>\n",
       "      <td>That amazing feeling when you finally close a ...</td>\n",
       "      <td>1</td>\n",
       "    </tr>\n",
       "    <tr>\n",
       "      <th>3</th>\n",
       "      <td>2020-03-25 06:15:49+00:00</td>\n",
       "      <td>From OHM to SHIB: 5 Most Impressive Altcoins o...</td>\n",
       "      <td>1</td>\n",
       "    </tr>\n",
       "    <tr>\n",
       "      <th>4</th>\n",
       "      <td>2020-03-25 06:12:38+00:00</td>\n",
       "      <td>https://t.co/8gINJWxBxN #Finance #StockMarket ...</td>\n",
       "      <td>1</td>\n",
       "    </tr>\n",
       "  </tbody>\n",
       "</table>\n",
       "</div>"
      ],
      "text/plain": [
       "                        Date  \\\n",
       "0  2020-03-25 06:18:32+00:00   \n",
       "1  2020-03-25 06:05:46+00:00   \n",
       "2  2020-03-25 06:35:29+00:00   \n",
       "3  2020-03-25 06:15:49+00:00   \n",
       "4  2020-03-25 06:12:38+00:00   \n",
       "\n",
       "                                       SentimentText  Sentiment  \n",
       "0  ??Education is not only a ladder of opportuni...          0  \n",
       "1  $GCLT news coming soon #fintech #finance https...          0  \n",
       "2  That amazing feeling when you finally close a ...          1  \n",
       "3  From OHM to SHIB: 5 Most Impressive Altcoins o...          1  \n",
       "4  https://t.co/8gINJWxBxN #Finance #StockMarket ...          1  "
      ]
     },
     "execution_count": 2,
     "metadata": {},
     "output_type": "execute_result"
    }
   ],
   "source": [
    "def ingest():\n",
    "    data = pd.read_csv('training.csv', encoding='latin-1') # Enter your file location\n",
    "    data.columns=[\"Date\",\"SentimentText\",\"Sentiment\"]\n",
    "    data = data[data.Sentiment.isnull() == False]\n",
    "    data['Sentiment'] = data['Sentiment'].map( {4:1, 0:0}) #Converting 4 to 1\n",
    "    data = data[data['SentimentText'].isnull() == False]\n",
    "    data.reset_index(inplace=True)\n",
    "    data.drop('index', axis=1, inplace=True)\n",
    "    print ('dataset loaded with shape', data.shape  )  \n",
    "    return data\n",
    "\n",
    "data = ingest()\n",
    "data.head()"
   ]
  },
  {
   "cell_type": "markdown",
   "metadata": {},
   "source": [
    "# Processing Data"
   ]
  },
  {
   "cell_type": "code",
   "execution_count": 3,
   "metadata": {},
   "outputs": [],
   "source": [
    "def TextClean(tweet):\n",
    "    tweet = tweet.lower()\n",
    "    tweet = re.sub(r'@[a-z0-9_]\\S+', '', tweet)\n",
    "    tweet = re.sub(r'#[a-z0-9_]\\S+', '', tweet)\n",
    "    tweet = re.sub(r'&[a-z0-9_]\\S+', '', tweet)\n",
    "    tweet = re.sub(r'[?!.+,;$%&\"]+', '', tweet)\n",
    "    tweet = re.sub(r'rt[\\s]+', '', tweet)\n",
    "    tweet = re.sub(r'\\d+', '', tweet)\n",
    "    tweet = re.sub(r'\\$', '', tweet)\n",
    "    tweet = re.sub(r'rt+', '', tweet)\n",
    "    tweet = re.sub(r'https?:?\\/\\/\\S+', '', tweet)\n",
    "    \n",
    "    return tweet"
   ]
  },
  {
   "cell_type": "code",
   "execution_count": 4,
   "metadata": {},
   "outputs": [],
   "source": [
    "tokenizer = TweetTokenizer()\n",
    "def tokenize(tweet):\n",
    "    try:\n",
    "        tweet = tweet.lower()\n",
    "        tokens = tokenizer.tokenize(tweet)\n",
    "        tokens = list(filter(lambda t: not t.startswith('@'), tokens))\n",
    "        tokens = list(filter(lambda t: not t.startswith('#'), tokens))\n",
    "        tokens = list(filter(lambda t: not t.startswith('http'), tokens))\n",
    "        return tokens\n",
    "    except:\n",
    "        return 'NC'"
   ]
  },
  {
   "cell_type": "code",
   "execution_count": 5,
   "metadata": {
    "scrolled": true
   },
   "outputs": [
    {
     "name": "stderr",
     "output_type": "stream",
     "text": [
      "progress-bar: 100%|██████████████████████████████████████████████████████████████| 8698/8698 [00:02<00:00, 3250.48it/s]\n"
     ]
    },
    {
     "data": {
      "text/html": [
       "<div>\n",
       "<style scoped>\n",
       "    .dataframe tbody tr th:only-of-type {\n",
       "        vertical-align: middle;\n",
       "    }\n",
       "\n",
       "    .dataframe tbody tr th {\n",
       "        vertical-align: top;\n",
       "    }\n",
       "\n",
       "    .dataframe thead th {\n",
       "        text-align: right;\n",
       "    }\n",
       "</style>\n",
       "<table border=\"1\" class=\"dataframe\">\n",
       "  <thead>\n",
       "    <tr style=\"text-align: right;\">\n",
       "      <th></th>\n",
       "      <th>Date</th>\n",
       "      <th>SentimentText</th>\n",
       "      <th>Sentiment</th>\n",
       "      <th>tokens</th>\n",
       "    </tr>\n",
       "  </thead>\n",
       "  <tbody>\n",
       "    <tr>\n",
       "      <th>0</th>\n",
       "      <td>2020-03-25 06:18:32+00:00</td>\n",
       "      <td>??Education is not only a ladder of opportuni...</td>\n",
       "      <td>0</td>\n",
       "      <td>[, ?, ?, education, is, not, only, a, ladder,...</td>\n",
       "    </tr>\n",
       "    <tr>\n",
       "      <th>1</th>\n",
       "      <td>2020-03-25 06:05:46+00:00</td>\n",
       "      <td>$GCLT news coming soon #fintech #finance https...</td>\n",
       "      <td>0</td>\n",
       "      <td>[$, gclt, news, coming, soon]</td>\n",
       "    </tr>\n",
       "    <tr>\n",
       "      <th>2</th>\n",
       "      <td>2020-03-25 06:35:29+00:00</td>\n",
       "      <td>That amazing feeling when you finally close a ...</td>\n",
       "      <td>1</td>\n",
       "      <td>[that, amazing, feeling, when, you, finally, c...</td>\n",
       "    </tr>\n",
       "    <tr>\n",
       "      <th>3</th>\n",
       "      <td>2020-03-25 06:15:49+00:00</td>\n",
       "      <td>From OHM to SHIB: 5 Most Impressive Altcoins o...</td>\n",
       "      <td>1</td>\n",
       "      <td>[from, ohm, to, shib, :, 5, most, impressive, ...</td>\n",
       "    </tr>\n",
       "    <tr>\n",
       "      <th>4</th>\n",
       "      <td>2020-03-25 06:12:38+00:00</td>\n",
       "      <td>https://t.co/8gINJWxBxN #Finance #StockMarket ...</td>\n",
       "      <td>1</td>\n",
       "      <td>[$, avct, $, bjdx, market, down, after, 1, day...</td>\n",
       "    </tr>\n",
       "  </tbody>\n",
       "</table>\n",
       "</div>"
      ],
      "text/plain": [
       "                        Date  \\\n",
       "0  2020-03-25 06:18:32+00:00   \n",
       "1  2020-03-25 06:05:46+00:00   \n",
       "2  2020-03-25 06:35:29+00:00   \n",
       "3  2020-03-25 06:15:49+00:00   \n",
       "4  2020-03-25 06:12:38+00:00   \n",
       "\n",
       "                                       SentimentText  Sentiment  \\\n",
       "0  ??Education is not only a ladder of opportuni...          0   \n",
       "1  $GCLT news coming soon #fintech #finance https...          0   \n",
       "2  That amazing feeling when you finally close a ...          1   \n",
       "3  From OHM to SHIB: 5 Most Impressive Altcoins o...          1   \n",
       "4  https://t.co/8gINJWxBxN #Finance #StockMarket ...          1   \n",
       "\n",
       "                                              tokens  \n",
       "0  [, ?, ?, education, is, not, only, a, ladder,...  \n",
       "1                      [$, gclt, news, coming, soon]  \n",
       "2  [that, amazing, feeling, when, you, finally, c...  \n",
       "3  [from, ohm, to, shib, :, 5, most, impressive, ...  \n",
       "4  [$, avct, $, bjdx, market, down, after, 1, day...  "
      ]
     },
     "execution_count": 5,
     "metadata": {},
     "output_type": "execute_result"
    }
   ],
   "source": [
    "def postprocess(data):\n",
    "    data['tokens'] = data['SentimentText'].progress_map(tokenize)  ## progress_map is a variant of the map function plus a progress bar. Handy to monitor DataFrame creations.\n",
    "    data = data[data.tokens != 'NC']\n",
    "    data.reset_index(inplace=True)\n",
    "    data.drop('index', inplace=True, axis=1)\n",
    "    return data\n",
    "\n",
    "data = postprocess(data)\n",
    "data.head()"
   ]
  },
  {
   "cell_type": "markdown",
   "metadata": {},
   "source": [
    "# Labelise Data"
   ]
  },
  {
   "cell_type": "code",
   "execution_count": 6,
   "metadata": {},
   "outputs": [],
   "source": [
    "LabeledSentence = gensim.models.doc2vec.TaggedDocument # we'll talk about this down below\n",
    "\n",
    "def labelizeTweets(tweets, label_type):\n",
    "    labelized = []\n",
    "    for i,v in tqdm(enumerate(tweets)):\n",
    "        label = '%s_%s'%(label_type,i)\n",
    "        labelized.append(LabeledSentence(v, [label]))\n",
    "    return labelized"
   ]
  },
  {
   "cell_type": "code",
   "execution_count": 7,
   "metadata": {
    "scrolled": true
   },
   "outputs": [],
   "source": [
    "#Splitting for training and testing\n",
    "x_train, x_test, y_train, y_test = train_test_split(np.array(data.head(8000).tokens),\n",
    "                                                    np.array(data.head(8000).Sentiment), test_size=0.2)\n"
   ]
  },
  {
   "cell_type": "code",
   "execution_count": 8,
   "metadata": {},
   "outputs": [
    {
     "name": "stderr",
     "output_type": "stream",
     "text": [
      "6400it [00:00, 136540.97it/s]\n",
      "1600it [00:00, 102382.82it/s]\n"
     ]
    }
   ],
   "source": [
    "x_train = labelizeTweets(x_train, 'TRAIN')\n",
    "x_test = labelizeTweets(x_test, 'TEST') "
   ]
  },
  {
   "cell_type": "code",
   "execution_count": 9,
   "metadata": {
    "scrolled": true
   },
   "outputs": [
    {
     "name": "stderr",
     "output_type": "stream",
     "text": [
      "8698it [00:00, 202696.11it/s]\n"
     ]
    }
   ],
   "source": [
    "data_labellised= labelizeTweets(np.array(data.tokens), 'data')"
   ]
  },
  {
   "cell_type": "markdown",
   "metadata": {},
   "source": [
    "# Builidng word2vec vocabulary and training"
   ]
  },
  {
   "cell_type": "code",
   "execution_count": 10,
   "metadata": {
    "scrolled": true
   },
   "outputs": [
    {
     "name": "stderr",
     "output_type": "stream",
     "text": [
      "100%|██████████████████████████████████████████████████████████████████████████████████████| 8698/8698 [00:00<?, ?it/s]\n"
     ]
    }
   ],
   "source": [
    "n=8000\n",
    "n_dim = 200\n",
    "tweet_w2v = Word2Vec(vector_size=200, min_count=10)\n",
    "tweet_w2v.build_vocab([x.words for x in tqdm(data_labellised)])"
   ]
  },
  {
   "cell_type": "code",
   "execution_count": 11,
   "metadata": {
    "scrolled": false
   },
   "outputs": [
    {
     "name": "stderr",
     "output_type": "stream",
     "text": [
      "100%|██████████████████████████████████████████████████████████████████████████| 8698/8698 [00:00<00:00, 557463.08it/s]\n"
     ]
    },
    {
     "data": {
      "text/plain": [
       "(613160, 1068920)"
      ]
     },
     "execution_count": 11,
     "metadata": {},
     "output_type": "execute_result"
    }
   ],
   "source": [
    "tweet_w2v.train([x.words for x in tqdm(data_labellised)],total_examples=tweet_w2v.corpus_count, epochs=tweet_w2v.epochs) "
   ]
  },
  {
   "cell_type": "code",
   "execution_count": 12,
   "metadata": {},
   "outputs": [],
   "source": [
    "#Save the w2v model\n",
    "tweet_w2v.save('w2vmodel')\n",
    "#Load the w2v model\n",
    "new_w2vmodel = gensim.models.Word2Vec.load('w2vmodel')"
   ]
  },
  {
   "cell_type": "code",
   "execution_count": 13,
   "metadata": {
    "scrolled": true
   },
   "outputs": [
    {
     "data": {
      "text/plain": [
       "64"
      ]
     },
     "execution_count": 13,
     "metadata": {},
     "output_type": "execute_result"
    }
   ],
   "source": [
    "#convert any word(present in vocabulary) to vector.\n",
    "tweet_w2v.wv.key_to_index['up']"
   ]
  },
  {
   "cell_type": "code",
   "execution_count": 14,
   "metadata": {
    "scrolled": true
   },
   "outputs": [
    {
     "data": {
      "text/plain": [
       "[('person', 0.9880647659301758),\n",
       " ('losing', 0.9856185913085938),\n",
       " ('size', 0.9850658178329468),\n",
       " ('were', 0.9850647449493408),\n",
       " ('companies', 0.9845852255821228),\n",
       " ('returns', 0.9843725562095642),\n",
       " ('increase', 0.9835025072097778),\n",
       " ('through', 0.9824102520942688),\n",
       " ('safe', 0.9821949005126953),\n",
       " ('buying', 0.9821088314056396)]"
      ]
     },
     "execution_count": 14,
     "metadata": {},
     "output_type": "execute_result"
    }
   ],
   "source": [
    "#Find similar words\n",
    "tweet_w2v.wv.most_similar('down')"
   ]
  },
  {
   "cell_type": "markdown",
   "metadata": {},
   "source": [
    "# TF-IDF matrix of data"
   ]
  },
  {
   "cell_type": "code",
   "execution_count": 15,
   "metadata": {
    "scrolled": true
   },
   "outputs": [
    {
     "name": "stdout",
     "output_type": "stream",
     "text": [
      "building tf-idf matrix ...\n",
      "vocab size : 1800\n"
     ]
    }
   ],
   "source": [
    "print ('building tf-idf matrix ...')\n",
    "vectorizer = TfidfVectorizer(analyzer=lambda x: x, min_df=10)\n",
    "matrix = vectorizer.fit_transform([x.words for x in data_labellised])\n",
    "tfidf = dict(zip(vectorizer.get_feature_names(), vectorizer.idf_))\n",
    "print ('vocab size :', len(tfidf))"
   ]
  },
  {
   "cell_type": "code",
   "execution_count": 16,
   "metadata": {},
   "outputs": [],
   "source": [
    "#Save the tfidf \n",
    "# with open(\"tfidfdict.txt\", \"wb\") as myFile:\n",
    "#     pickle.dump(tfidf, myFile)\n",
    "# with open(\"tfidfdict.txt\", \"rb\") as myFile:\n",
    "#     tfidf = pickle.load(myFile)\n"
   ]
  },
  {
   "cell_type": "markdown",
   "metadata": {},
   "source": [
    "# Build tweet vector to give input to FeedForward Neural Network"
   ]
  },
  {
   "cell_type": "code",
   "execution_count": 17,
   "metadata": {},
   "outputs": [],
   "source": [
    "def buildWordVector(tokens, vector_size):\n",
    "    vec = np.zeros(vector_size).reshape((1, vector_size))\n",
    "    count = 0.\n",
    "    for word in tokens:\n",
    "        try:\n",
    "            vec += tweet_w2v.wv[word].reshape((1, vector_size)) * tfidf[word] #combining w2v vectors with tfidf value of words in the tweet.\n",
    "            count += 1.\n",
    "        except KeyError: # handling the case where the token is not vec += model_w2v.wv[word].reshape((1, size))\n",
    "                         # in the corpus. useful for testing.\n",
    "            continue\n",
    "    if count != 0:\n",
    "        vec /= count\n",
    "    return vec"
   ]
  },
  {
   "cell_type": "code",
   "execution_count": 18,
   "metadata": {
    "scrolled": true
   },
   "outputs": [
    {
     "name": "stderr",
     "output_type": "stream",
     "text": [
      "6400it [00:02, 2297.82it/s]\n",
      "1600it [00:00, 2363.29it/s]\n"
     ]
    }
   ],
   "source": [
    "train_vecs_w2v = np.concatenate([buildWordVector(z, n_dim) for z in tqdm(map(lambda x: x.words, x_train))])\n",
    "train_vecs_w2v = scale(train_vecs_w2v)\n",
    "\n",
    "test_vecs_w2v = np.concatenate([buildWordVector(z, n_dim) for z in tqdm(map(lambda x: x.words, x_test))])\n",
    "test_vecs_w2v = scale(test_vecs_w2v)"
   ]
  },
  {
   "cell_type": "markdown",
   "metadata": {},
   "source": [
    "# Training 3 layered FFNN"
   ]
  },
  {
   "cell_type": "code",
   "execution_count": 19,
   "metadata": {
    "scrolled": true
   },
   "outputs": [
    {
     "name": "stdout",
     "output_type": "stream",
     "text": [
      "Epoch 1/100\n",
      "11/11 - 1s - loss: 0.6548 - accuracy: 0.6017 - 1s/epoch - 97ms/step\n",
      "Epoch 2/100\n",
      "11/11 - 0s - loss: 0.6176 - accuracy: 0.6511 - 47ms/epoch - 4ms/step\n",
      "Epoch 3/100\n",
      "11/11 - 0s - loss: 0.6050 - accuracy: 0.6598 - 53ms/epoch - 5ms/step\n",
      "Epoch 4/100\n",
      "11/11 - 0s - loss: 0.5965 - accuracy: 0.6583 - 47ms/epoch - 4ms/step\n",
      "Epoch 5/100\n",
      "11/11 - 0s - loss: 0.5891 - accuracy: 0.6644 - 47ms/epoch - 4ms/step\n",
      "Epoch 6/100\n",
      "11/11 - 0s - loss: 0.5857 - accuracy: 0.6714 - 31ms/epoch - 3ms/step\n",
      "Epoch 7/100\n",
      "11/11 - 0s - loss: 0.5788 - accuracy: 0.6700 - 47ms/epoch - 4ms/step\n",
      "Epoch 8/100\n",
      "11/11 - 0s - loss: 0.5760 - accuracy: 0.6734 - 38ms/epoch - 3ms/step\n",
      "Epoch 9/100\n",
      "11/11 - 0s - loss: 0.5717 - accuracy: 0.6803 - 31ms/epoch - 3ms/step\n",
      "Epoch 10/100\n",
      "11/11 - 0s - loss: 0.5684 - accuracy: 0.6825 - 38ms/epoch - 3ms/step\n",
      "Epoch 11/100\n",
      "11/11 - 0s - loss: 0.5644 - accuracy: 0.6869 - 31ms/epoch - 3ms/step\n",
      "Epoch 12/100\n",
      "11/11 - 0s - loss: 0.5612 - accuracy: 0.6909 - 38ms/epoch - 3ms/step\n",
      "Epoch 13/100\n",
      "11/11 - 0s - loss: 0.5566 - accuracy: 0.6941 - 47ms/epoch - 4ms/step\n",
      "Epoch 14/100\n",
      "11/11 - 0s - loss: 0.5540 - accuracy: 0.6953 - 38ms/epoch - 3ms/step\n",
      "Epoch 15/100\n",
      "11/11 - 0s - loss: 0.5525 - accuracy: 0.6988 - 47ms/epoch - 4ms/step\n",
      "Epoch 16/100\n",
      "11/11 - 0s - loss: 0.5480 - accuracy: 0.7042 - 47ms/epoch - 4ms/step\n",
      "Epoch 17/100\n",
      "11/11 - 0s - loss: 0.5462 - accuracy: 0.7028 - 31ms/epoch - 3ms/step\n",
      "Epoch 18/100\n",
      "11/11 - 0s - loss: 0.5425 - accuracy: 0.7063 - 47ms/epoch - 4ms/step\n",
      "Epoch 19/100\n",
      "11/11 - 0s - loss: 0.5425 - accuracy: 0.7047 - 38ms/epoch - 3ms/step\n",
      "Epoch 20/100\n",
      "11/11 - 0s - loss: 0.5377 - accuracy: 0.7123 - 47ms/epoch - 4ms/step\n",
      "Epoch 21/100\n",
      "11/11 - 0s - loss: 0.5372 - accuracy: 0.7117 - 38ms/epoch - 3ms/step\n",
      "Epoch 22/100\n",
      "11/11 - 0s - loss: 0.5345 - accuracy: 0.7145 - 47ms/epoch - 4ms/step\n",
      "Epoch 23/100\n",
      "11/11 - 0s - loss: 0.5322 - accuracy: 0.7156 - 47ms/epoch - 4ms/step\n",
      "Epoch 24/100\n",
      "11/11 - 0s - loss: 0.5325 - accuracy: 0.7141 - 38ms/epoch - 3ms/step\n",
      "Epoch 25/100\n",
      "11/11 - 0s - loss: 0.5311 - accuracy: 0.7136 - 47ms/epoch - 4ms/step\n",
      "Epoch 26/100\n",
      "11/11 - 0s - loss: 0.5252 - accuracy: 0.7181 - 22ms/epoch - 2ms/step\n",
      "Epoch 27/100\n",
      "11/11 - 0s - loss: 0.5264 - accuracy: 0.7158 - 31ms/epoch - 3ms/step\n",
      "Epoch 28/100\n",
      "11/11 - 0s - loss: 0.5230 - accuracy: 0.7189 - 38ms/epoch - 3ms/step\n",
      "Epoch 29/100\n",
      "11/11 - 0s - loss: 0.5227 - accuracy: 0.7181 - 47ms/epoch - 4ms/step\n",
      "Epoch 30/100\n",
      "11/11 - 0s - loss: 0.5191 - accuracy: 0.7198 - 31ms/epoch - 3ms/step\n",
      "Epoch 31/100\n",
      "11/11 - 0s - loss: 0.5193 - accuracy: 0.7220 - 38ms/epoch - 3ms/step\n",
      "Epoch 32/100\n",
      "11/11 - 0s - loss: 0.5157 - accuracy: 0.7242 - 47ms/epoch - 4ms/step\n",
      "Epoch 33/100\n",
      "11/11 - 0s - loss: 0.5175 - accuracy: 0.7241 - 38ms/epoch - 3ms/step\n",
      "Epoch 34/100\n",
      "11/11 - 0s - loss: 0.5137 - accuracy: 0.7259 - 31ms/epoch - 3ms/step\n",
      "Epoch 35/100\n",
      "11/11 - 0s - loss: 0.5154 - accuracy: 0.7241 - 31ms/epoch - 3ms/step\n",
      "Epoch 36/100\n",
      "11/11 - 0s - loss: 0.5131 - accuracy: 0.7267 - 22ms/epoch - 2ms/step\n",
      "Epoch 37/100\n",
      "11/11 - 0s - loss: 0.5106 - accuracy: 0.7295 - 31ms/epoch - 3ms/step\n",
      "Epoch 38/100\n",
      "11/11 - 0s - loss: 0.5119 - accuracy: 0.7305 - 31ms/epoch - 3ms/step\n",
      "Epoch 39/100\n",
      "11/11 - 0s - loss: 0.5110 - accuracy: 0.7278 - 38ms/epoch - 3ms/step\n",
      "Epoch 40/100\n",
      "11/11 - 0s - loss: 0.5102 - accuracy: 0.7292 - 31ms/epoch - 3ms/step\n",
      "Epoch 41/100\n",
      "11/11 - 0s - loss: 0.5062 - accuracy: 0.7316 - 47ms/epoch - 4ms/step\n",
      "Epoch 42/100\n",
      "11/11 - 0s - loss: 0.5062 - accuracy: 0.7342 - 38ms/epoch - 3ms/step\n",
      "Epoch 43/100\n",
      "11/11 - 0s - loss: 0.5036 - accuracy: 0.7352 - 31ms/epoch - 3ms/step\n",
      "Epoch 44/100\n",
      "11/11 - 0s - loss: 0.5032 - accuracy: 0.7303 - 38ms/epoch - 3ms/step\n",
      "Epoch 45/100\n",
      "11/11 - 0s - loss: 0.5021 - accuracy: 0.7345 - 31ms/epoch - 3ms/step\n",
      "Epoch 46/100\n",
      "11/11 - 0s - loss: 0.4994 - accuracy: 0.7362 - 47ms/epoch - 4ms/step\n",
      "Epoch 47/100\n",
      "11/11 - 0s - loss: 0.5019 - accuracy: 0.7350 - 38ms/epoch - 3ms/step\n",
      "Epoch 48/100\n",
      "11/11 - 0s - loss: 0.4997 - accuracy: 0.7370 - 47ms/epoch - 4ms/step\n",
      "Epoch 49/100\n",
      "11/11 - 0s - loss: 0.4982 - accuracy: 0.7353 - 38ms/epoch - 3ms/step\n",
      "Epoch 50/100\n",
      "11/11 - 0s - loss: 0.4957 - accuracy: 0.7431 - 47ms/epoch - 4ms/step\n",
      "Epoch 51/100\n",
      "11/11 - 0s - loss: 0.4972 - accuracy: 0.7377 - 47ms/epoch - 4ms/step\n",
      "Epoch 52/100\n",
      "11/11 - 0s - loss: 0.4936 - accuracy: 0.7416 - 31ms/epoch - 3ms/step\n",
      "Epoch 53/100\n",
      "11/11 - 0s - loss: 0.4925 - accuracy: 0.7406 - 47ms/epoch - 4ms/step\n",
      "Epoch 54/100\n",
      "11/11 - 0s - loss: 0.4902 - accuracy: 0.7464 - 38ms/epoch - 3ms/step\n",
      "Epoch 55/100\n",
      "11/11 - 0s - loss: 0.4921 - accuracy: 0.7444 - 31ms/epoch - 3ms/step\n",
      "Epoch 56/100\n",
      "11/11 - 0s - loss: 0.4923 - accuracy: 0.7387 - 47ms/epoch - 4ms/step\n",
      "Epoch 57/100\n",
      "11/11 - 0s - loss: 0.4872 - accuracy: 0.7436 - 38ms/epoch - 3ms/step\n",
      "Epoch 58/100\n",
      "11/11 - 0s - loss: 0.4886 - accuracy: 0.7502 - 31ms/epoch - 3ms/step\n",
      "Epoch 59/100\n",
      "11/11 - 0s - loss: 0.4899 - accuracy: 0.7417 - 38ms/epoch - 3ms/step\n",
      "Epoch 60/100\n",
      "11/11 - 0s - loss: 0.4880 - accuracy: 0.7420 - 31ms/epoch - 3ms/step\n",
      "Epoch 61/100\n",
      "11/11 - 0s - loss: 0.4861 - accuracy: 0.7420 - 31ms/epoch - 3ms/step\n",
      "Epoch 62/100\n",
      "11/11 - 0s - loss: 0.4833 - accuracy: 0.7519 - 38ms/epoch - 3ms/step\n",
      "Epoch 63/100\n",
      "11/11 - 0s - loss: 0.4886 - accuracy: 0.7436 - 31ms/epoch - 3ms/step\n",
      "Epoch 64/100\n",
      "11/11 - 0s - loss: 0.4842 - accuracy: 0.7475 - 31ms/epoch - 3ms/step\n",
      "Epoch 65/100\n",
      "11/11 - 0s - loss: 0.4820 - accuracy: 0.7500 - 22ms/epoch - 2ms/step\n",
      "Epoch 66/100\n",
      "11/11 - 0s - loss: 0.4797 - accuracy: 0.7502 - 47ms/epoch - 4ms/step\n",
      "Epoch 67/100\n",
      "11/11 - 0s - loss: 0.4827 - accuracy: 0.7491 - 38ms/epoch - 3ms/step\n",
      "Epoch 68/100\n",
      "11/11 - 0s - loss: 0.4790 - accuracy: 0.7505 - 31ms/epoch - 3ms/step\n",
      "Epoch 69/100\n",
      "11/11 - 0s - loss: 0.4774 - accuracy: 0.7531 - 31ms/epoch - 3ms/step\n",
      "Epoch 70/100\n",
      "11/11 - 0s - loss: 0.4807 - accuracy: 0.7517 - 22ms/epoch - 2ms/step\n",
      "Epoch 71/100\n",
      "11/11 - 0s - loss: 0.4770 - accuracy: 0.7525 - 31ms/epoch - 3ms/step\n",
      "Epoch 72/100\n",
      "11/11 - 0s - loss: 0.4786 - accuracy: 0.7508 - 31ms/epoch - 3ms/step\n",
      "Epoch 73/100\n",
      "11/11 - 0s - loss: 0.4768 - accuracy: 0.7508 - 22ms/epoch - 2ms/step\n",
      "Epoch 74/100\n",
      "11/11 - 0s - loss: 0.4756 - accuracy: 0.7538 - 31ms/epoch - 3ms/step\n",
      "Epoch 75/100\n",
      "11/11 - 0s - loss: 0.4762 - accuracy: 0.7580 - 38ms/epoch - 3ms/step\n",
      "Epoch 76/100\n",
      "11/11 - 0s - loss: 0.4721 - accuracy: 0.7558 - 47ms/epoch - 4ms/step\n",
      "Epoch 77/100\n",
      "11/11 - 0s - loss: 0.4817 - accuracy: 0.7531 - 31ms/epoch - 3ms/step\n",
      "Epoch 78/100\n",
      "11/11 - 0s - loss: 0.4726 - accuracy: 0.7600 - 38ms/epoch - 3ms/step\n",
      "Epoch 79/100\n",
      "11/11 - 0s - loss: 0.4729 - accuracy: 0.7589 - 31ms/epoch - 3ms/step\n",
      "Epoch 80/100\n",
      "11/11 - 0s - loss: 0.4730 - accuracy: 0.7520 - 38ms/epoch - 3ms/step\n",
      "Epoch 81/100\n",
      "11/11 - 0s - loss: 0.4730 - accuracy: 0.7575 - 47ms/epoch - 4ms/step\n",
      "Epoch 82/100\n",
      "11/11 - 0s - loss: 0.4742 - accuracy: 0.7558 - 31ms/epoch - 3ms/step\n",
      "Epoch 83/100\n",
      "11/11 - 0s - loss: 0.4721 - accuracy: 0.7555 - 38ms/epoch - 3ms/step\n",
      "Epoch 84/100\n",
      "11/11 - 0s - loss: 0.4699 - accuracy: 0.7573 - 31ms/epoch - 3ms/step\n",
      "Epoch 85/100\n",
      "11/11 - 0s - loss: 0.4715 - accuracy: 0.7570 - 31ms/epoch - 3ms/step\n",
      "Epoch 86/100\n",
      "11/11 - 0s - loss: 0.4697 - accuracy: 0.7589 - 38ms/epoch - 3ms/step\n",
      "Epoch 87/100\n",
      "11/11 - 0s - loss: 0.4703 - accuracy: 0.7552 - 31ms/epoch - 3ms/step\n",
      "Epoch 88/100\n",
      "11/11 - 0s - loss: 0.4687 - accuracy: 0.7602 - 38ms/epoch - 3ms/step\n",
      "Epoch 89/100\n",
      "11/11 - 0s - loss: 0.4682 - accuracy: 0.7605 - 31ms/epoch - 3ms/step\n",
      "Epoch 90/100\n",
      "11/11 - 0s - loss: 0.4659 - accuracy: 0.7664 - 31ms/epoch - 3ms/step\n",
      "Epoch 91/100\n",
      "11/11 - 0s - loss: 0.4663 - accuracy: 0.7616 - 38ms/epoch - 3ms/step\n",
      "Epoch 92/100\n",
      "11/11 - 0s - loss: 0.4653 - accuracy: 0.7619 - 47ms/epoch - 4ms/step\n",
      "Epoch 93/100\n",
      "11/11 - 0s - loss: 0.4671 - accuracy: 0.7616 - 38ms/epoch - 3ms/step\n",
      "Epoch 94/100\n",
      "11/11 - 0s - loss: 0.4667 - accuracy: 0.7619 - 47ms/epoch - 4ms/step\n",
      "Epoch 95/100\n",
      "11/11 - 0s - loss: 0.4637 - accuracy: 0.7688 - 31ms/epoch - 3ms/step\n",
      "Epoch 96/100\n",
      "11/11 - 0s - loss: 0.4625 - accuracy: 0.7644 - 38ms/epoch - 3ms/step\n",
      "Epoch 97/100\n",
      "11/11 - 0s - loss: 0.4655 - accuracy: 0.7616 - 47ms/epoch - 4ms/step\n",
      "Epoch 98/100\n",
      "11/11 - 0s - loss: 0.4648 - accuracy: 0.7620 - 38ms/epoch - 3ms/step\n",
      "Epoch 99/100\n",
      "11/11 - 0s - loss: 0.4615 - accuracy: 0.7628 - 31ms/epoch - 3ms/step\n",
      "Epoch 100/100\n",
      "11/11 - 0s - loss: 0.4617 - accuracy: 0.7636 - 47ms/epoch - 4ms/step\n"
     ]
    },
    {
     "data": {
      "text/plain": [
       "<keras.callbacks.History at 0x29f104cc8e0>"
      ]
     },
     "execution_count": 19,
     "metadata": {},
     "output_type": "execute_result"
    }
   ],
   "source": [
    "model = Sequential()\n",
    "model.add(Dense(32, activation='relu', input_dim=200))\n",
    "model.add(Dense(16, activation='relu'))\n",
    "model.add(Dense(8, activation='relu'))\n",
    "model.add(Dense(1, activation='sigmoid'))\n",
    "model.compile(optimizer='rmsprop',\n",
    "              loss='binary_crossentropy',\n",
    "              metrics=['accuracy'])\n",
    "\n",
    "model.fit(train_vecs_w2v, y_train, epochs=100, batch_size=600, verbose=2)"
   ]
  },
  {
   "cell_type": "code",
   "execution_count": 20,
   "metadata": {
    "scrolled": true
   },
   "outputs": [
    {
     "name": "stdout",
     "output_type": "stream",
     "text": [
      "2/2 - 0s - loss: 0.5619 - accuracy: 0.7006 - 232ms/epoch - 116ms/step\n",
      "loss :  0.5619224309921265 \n",
      " accuracy :  0.7006250023841858\n"
     ]
    }
   ],
   "source": [
    "# Evaluating accuracy score\n",
    "score = model.evaluate(test_vecs_w2v, y_test, batch_size=800, verbose=2)\n",
    "print(model.metrics_names[0],\": \",score[0],\"\\n\",model.metrics_names[1],\": \",score[1])"
   ]
  },
  {
   "cell_type": "markdown",
   "metadata": {},
   "source": [
    "# Saving model"
   ]
  },
  {
   "cell_type": "code",
   "execution_count": 21,
   "metadata": {
    "scrolled": false
   },
   "outputs": [
    {
     "name": "stdout",
     "output_type": "stream",
     "text": [
      "Saved model to disk\n"
     ]
    }
   ],
   "source": [
    "#Saving the model\n",
    "model_json = model.to_json() # serialize model to JSON\n",
    "with open(\"model.json\", \"w\") as json_file:\n",
    "    json_file.write(model_json)\n",
    "\n",
    "model.save_weights(\"smodel.h5\") # serialize weights to HDF5\n",
    "print(\"Saved model to disk\")\n",
    "\n",
    "#Loading the model\n",
    "# newmodel = model_from_json(open('model.json').read())\n",
    "# newmodel.load_weights('smodel.h5')"
   ]
  },
  {
   "cell_type": "markdown",
   "metadata": {},
   "source": [
    "# Predicting for test file (Validation)"
   ]
  },
  {
   "cell_type": "code",
   "execution_count": 22,
   "metadata": {},
   "outputs": [
    {
     "name": "stdout",
     "output_type": "stream",
     "text": [
      "dataset loaded with shape (3824, 3)\n"
     ]
    }
   ],
   "source": [
    "def ingesttest():\n",
    "    testdata = pd.read_csv('testing.csv', encoding='latin-1')\n",
    "    testdata.columns=[\"Date\",\"SentimentText\",\"Sentiment\"] \n",
    "    testdata = testdata[testdata.Sentiment.isnull() == False]\n",
    "    testdata['Sentiment'] = testdata['Sentiment'].map( {4:1, 0:0, 2:1})\n",
    "    testdata = testdata[testdata['SentimentText'].isnull() == False]\n",
    "    testdata.reset_index(inplace=True)\n",
    "    testdata.drop('index', axis=1, inplace=True)\n",
    "    print ('dataset loaded with shape', testdata.shape  )  \n",
    "    return testdata\n",
    "\n",
    "testdata = ingesttest()"
   ]
  },
  {
   "cell_type": "code",
   "execution_count": 23,
   "metadata": {},
   "outputs": [
    {
     "name": "stderr",
     "output_type": "stream",
     "text": [
      "progress-bar: 100%|██████████████████████████████████████████████████████████████| 3824/3824 [00:01<00:00, 3237.94it/s]\n"
     ]
    },
    {
     "data": {
      "text/html": [
       "<div>\n",
       "<style scoped>\n",
       "    .dataframe tbody tr th:only-of-type {\n",
       "        vertical-align: middle;\n",
       "    }\n",
       "\n",
       "    .dataframe tbody tr th {\n",
       "        vertical-align: top;\n",
       "    }\n",
       "\n",
       "    .dataframe thead th {\n",
       "        text-align: right;\n",
       "    }\n",
       "</style>\n",
       "<table border=\"1\" class=\"dataframe\">\n",
       "  <thead>\n",
       "    <tr style=\"text-align: right;\">\n",
       "      <th></th>\n",
       "      <th>Date</th>\n",
       "      <th>SentimentText</th>\n",
       "      <th>Sentiment</th>\n",
       "      <th>tokens</th>\n",
       "    </tr>\n",
       "  </thead>\n",
       "  <tbody>\n",
       "    <tr>\n",
       "      <th>0</th>\n",
       "      <td>2020-03-31 04:55:00+00:00</td>\n",
       "      <td>$BLDE - Blade Air Mobility: Poised To Fly High...</td>\n",
       "      <td>1</td>\n",
       "      <td>[$, blde, -, blade, air, mobility, :, poised, ...</td>\n",
       "    </tr>\n",
       "    <tr>\n",
       "      <th>1</th>\n",
       "      <td>2020-03-31 04:44:56+00:00</td>\n",
       "      <td>https://t.co/WTo4dnVIQu | Subscribe Now ! | st...</td>\n",
       "      <td>0</td>\n",
       "      <td>[|, subscribe, now, !, |, stockmarket, ?, ÿ]</td>\n",
       "    </tr>\n",
       "    <tr>\n",
       "      <th>2</th>\n",
       "      <td>2020-03-31 04:54:42+00:00</td>\n",
       "      <td>Courtesy of Your Home Real Estate Pro\\n\\n#budg...</td>\n",
       "      <td>1</td>\n",
       "      <td>[courtesy, of, your, home, real, estate, pro, ...</td>\n",
       "    </tr>\n",
       "    <tr>\n",
       "      <th>3</th>\n",
       "      <td>2020-03-31 04:43:47+00:00</td>\n",
       "      <td>4 Simple Things You Can Do Today To Improve Yo...</td>\n",
       "      <td>1</td>\n",
       "      <td>[4, simple, things, you, can, do, today, to, i...</td>\n",
       "    </tr>\n",
       "    <tr>\n",
       "      <th>4</th>\n",
       "      <td>2020-03-31 04:54:29+00:00</td>\n",
       "      <td>cryptocurrency news.\\n\\nAdvice For Crypto Star...</td>\n",
       "      <td>0</td>\n",
       "      <td>[cryptocurrency, news, ., advice, for, crypto,...</td>\n",
       "    </tr>\n",
       "  </tbody>\n",
       "</table>\n",
       "</div>"
      ],
      "text/plain": [
       "                        Date  \\\n",
       "0  2020-03-31 04:55:00+00:00   \n",
       "1  2020-03-31 04:44:56+00:00   \n",
       "2  2020-03-31 04:54:42+00:00   \n",
       "3  2020-03-31 04:43:47+00:00   \n",
       "4  2020-03-31 04:54:29+00:00   \n",
       "\n",
       "                                       SentimentText  Sentiment  \\\n",
       "0  $BLDE - Blade Air Mobility: Poised To Fly High...          1   \n",
       "1  https://t.co/WTo4dnVIQu | Subscribe Now ! | st...          0   \n",
       "2  Courtesy of Your Home Real Estate Pro\\n\\n#budg...          1   \n",
       "3  4 Simple Things You Can Do Today To Improve Yo...          1   \n",
       "4  cryptocurrency news.\\n\\nAdvice For Crypto Star...          0   \n",
       "\n",
       "                                              tokens  \n",
       "0  [$, blde, -, blade, air, mobility, :, poised, ...  \n",
       "1       [|, subscribe, now, !, |, stockmarket, ?, ÿ]  \n",
       "2  [courtesy, of, your, home, real, estate, pro, ...  \n",
       "3  [4, simple, things, you, can, do, today, to, i...  \n",
       "4  [cryptocurrency, news, ., advice, for, crypto,...  "
      ]
     },
     "execution_count": 23,
     "metadata": {},
     "output_type": "execute_result"
    }
   ],
   "source": [
    "testdata = postprocess(testdata)\n",
    "testdata.head(5)"
   ]
  },
  {
   "cell_type": "code",
   "execution_count": 24,
   "metadata": {},
   "outputs": [],
   "source": [
    "test_X=np.array(testdata.tokens)\n",
    "test_y=np.array(testdata.Sentiment)"
   ]
  },
  {
   "cell_type": "code",
   "execution_count": 25,
   "metadata": {
    "scrolled": true
   },
   "outputs": [
    {
     "name": "stderr",
     "output_type": "stream",
     "text": [
      "3824it [00:01, 2306.48it/s]\n"
     ]
    }
   ],
   "source": [
    "test_w2v_vecs = np.concatenate([buildWordVector(z, n_dim) for z in tqdm(map(lambda x:x, test_X))])"
   ]
  },
  {
   "cell_type": "code",
   "execution_count": 26,
   "metadata": {},
   "outputs": [
    {
     "data": {
      "text/plain": [
       "(3824, 200)"
      ]
     },
     "execution_count": 26,
     "metadata": {},
     "output_type": "execute_result"
    }
   ],
   "source": [
    "test_w2v_vecs.shape"
   ]
  },
  {
   "cell_type": "code",
   "execution_count": 27,
   "metadata": {
    "scrolled": true
   },
   "outputs": [
    {
     "name": "stdout",
     "output_type": "stream",
     "text": [
      "30/30 - 0s - loss: 0.7436 - accuracy: 0.5442 - 232ms/epoch - 8ms/step\n",
      "loss :  0.7435910701751709 \n",
      " accuracy :  0.5441945791244507\n"
     ]
    }
   ],
   "source": [
    "# model.predict_classes(test_w2v_vecs)\n",
    "score = model.evaluate(test_w2v_vecs,test_y, batch_size=128, verbose=2)\n",
    "print(model.metrics_names[0],\": \",score[0],\"\\n\",model.metrics_names[1],\": \",score[1])"
   ]
  },
  {
   "cell_type": "code",
   "execution_count": null,
   "metadata": {},
   "outputs": [],
   "source": []
  },
  {
   "cell_type": "code",
   "execution_count": null,
   "metadata": {},
   "outputs": [],
   "source": []
  }
 ],
 "metadata": {
  "kernelspec": {
   "display_name": "Python 3",
   "language": "python",
   "name": "python3"
  },
  "language_info": {
   "codemirror_mode": {
    "name": "ipython",
    "version": 3
   },
   "file_extension": ".py",
   "mimetype": "text/x-python",
   "name": "python",
   "nbconvert_exporter": "python",
   "pygments_lexer": "ipython3",
   "version": "3.8.8"
  }
 },
 "nbformat": 4,
 "nbformat_minor": 2
}
