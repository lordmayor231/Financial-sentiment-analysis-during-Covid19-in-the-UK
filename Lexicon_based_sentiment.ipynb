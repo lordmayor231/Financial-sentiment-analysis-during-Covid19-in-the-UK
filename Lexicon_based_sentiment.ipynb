{
 "cells": [
  {
   "cell_type": "code",
   "execution_count": 1,
   "metadata": {},
   "outputs": [],
   "source": [
    "import pandas as pd\n",
    "import numpy as np\n",
    "import re\n",
    "\n",
    "import matplotlib.pyplot as plt\n",
    "\n",
    "from nltk.tokenize import TweetTokenizer\n",
    "\n",
    "from vaderSentiment.vaderSentiment import SentimentIntensityAnalyzer\n",
    "from textblob import TextBlob"
   ]
  },
  {
   "cell_type": "code",
   "execution_count": 3,
   "metadata": {},
   "outputs": [
    {
     "data": {
      "text/html": [
       "<div>\n",
       "<style scoped>\n",
       "    .dataframe tbody tr th:only-of-type {\n",
       "        vertical-align: middle;\n",
       "    }\n",
       "\n",
       "    .dataframe tbody tr th {\n",
       "        vertical-align: top;\n",
       "    }\n",
       "\n",
       "    .dataframe thead th {\n",
       "        text-align: right;\n",
       "    }\n",
       "</style>\n",
       "<table border=\"1\" class=\"dataframe\">\n",
       "  <thead>\n",
       "    <tr style=\"text-align: right;\">\n",
       "      <th></th>\n",
       "      <th>Datetime</th>\n",
       "      <th>user_name</th>\n",
       "      <th>user_location</th>\n",
       "      <th>user_description</th>\n",
       "      <th>tweet</th>\n",
       "      <th>sentiment</th>\n",
       "    </tr>\n",
       "  </thead>\n",
       "  <tbody>\n",
       "    <tr>\n",
       "      <th>0</th>\n",
       "      <td>2020-03-25 06:36:25+00:00</td>\n",
       "      <td>TickWatcher</td>\n",
       "      <td>California, USA</td>\n",
       "      <td>Update for stock earnings, dividend, money flo...</td>\n",
       "      <td>$DG #Dollar General #Options #maxpain Chart, O...</td>\n",
       "      <td>Positive</td>\n",
       "    </tr>\n",
       "    <tr>\n",
       "      <th>1</th>\n",
       "      <td>2020-03-25 06:18:32+00:00</td>\n",
       "      <td>Vista Partners LLC</td>\n",
       "      <td>San Francisco, CA</td>\n",
       "      <td>CA Registered Investment Advisor, Publishes FR...</td>\n",
       "      <td>“Education is not only a ladder of opportunity...</td>\n",
       "      <td>Neutral</td>\n",
       "    </tr>\n",
       "    <tr>\n",
       "      <th>2</th>\n",
       "      <td>2020-03-25 06:05:46+00:00</td>\n",
       "      <td>Capt. Investo</td>\n",
       "      <td>St Petersburg, FL</td>\n",
       "      <td>“The quickest way to double your money is to f...</td>\n",
       "      <td>$GCLT news coming soon #fintech #finance https...</td>\n",
       "      <td>Neutral</td>\n",
       "    </tr>\n",
       "    <tr>\n",
       "      <th>3</th>\n",
       "      <td>2020-03-25 06:35:29+00:00</td>\n",
       "      <td>FFL Tribe</td>\n",
       "      <td>Austin, TX</td>\n",
       "      <td>The Tribe - Family First Life agents on a miss...</td>\n",
       "      <td>That amazing feeling when you finally close a ...</td>\n",
       "      <td>Positive</td>\n",
       "    </tr>\n",
       "    <tr>\n",
       "      <th>4</th>\n",
       "      <td>2020-03-25 06:15:49+00:00</td>\n",
       "      <td>inter_mkt</td>\n",
       "      <td>France</td>\n",
       "      <td>cbpassiveincomes #trading #forex #bitcoin #tra...</td>\n",
       "      <td>From OHM to SHIB: 5 Most Impressive Altcoins o...</td>\n",
       "      <td>Positive</td>\n",
       "    </tr>\n",
       "  </tbody>\n",
       "</table>\n",
       "</div>"
      ],
      "text/plain": [
       "                    Datetime           user_name      user_location  \\\n",
       "0  2020-03-25 06:36:25+00:00         TickWatcher    California, USA   \n",
       "1  2020-03-25 06:18:32+00:00  Vista Partners LLC  San Francisco, CA   \n",
       "2  2020-03-25 06:05:46+00:00       Capt. Investo  St Petersburg, FL   \n",
       "3  2020-03-25 06:35:29+00:00           FFL Tribe         Austin, TX   \n",
       "4  2020-03-25 06:15:49+00:00           inter_mkt             France   \n",
       "\n",
       "                                    user_description  \\\n",
       "0  Update for stock earnings, dividend, money flo...   \n",
       "1  CA Registered Investment Advisor, Publishes FR...   \n",
       "2  “The quickest way to double your money is to f...   \n",
       "3  The Tribe - Family First Life agents on a miss...   \n",
       "4  cbpassiveincomes #trading #forex #bitcoin #tra...   \n",
       "\n",
       "                                               tweet sentiment  \n",
       "0  $DG #Dollar General #Options #maxpain Chart, O...  Positive  \n",
       "1  “Education is not only a ladder of opportunity...   Neutral  \n",
       "2  $GCLT news coming soon #fintech #finance https...   Neutral  \n",
       "3  That amazing feeling when you finally close a ...  Positive  \n",
       "4  From OHM to SHIB: 5 Most Impressive Altcoins o...  Positive  "
      ]
     },
     "execution_count": 3,
     "metadata": {},
     "output_type": "execute_result"
    }
   ],
   "source": [
    "tweets_df = pd.read_csv('dataset2.csv')\n",
    "tweets_df.head()"
   ]
  },
  {
   "cell_type": "code",
   "execution_count": 4,
   "metadata": {},
   "outputs": [
    {
     "data": {
      "text/plain": [
       "(12524, 6)"
      ]
     },
     "execution_count": 4,
     "metadata": {},
     "output_type": "execute_result"
    }
   ],
   "source": [
    "tweets_df.shape"
   ]
  },
  {
   "cell_type": "code",
   "execution_count": 5,
   "metadata": {},
   "outputs": [
    {
     "data": {
      "text/html": [
       "<div>\n",
       "<style scoped>\n",
       "    .dataframe tbody tr th:only-of-type {\n",
       "        vertical-align: middle;\n",
       "    }\n",
       "\n",
       "    .dataframe tbody tr th {\n",
       "        vertical-align: top;\n",
       "    }\n",
       "\n",
       "    .dataframe thead th {\n",
       "        text-align: right;\n",
       "    }\n",
       "</style>\n",
       "<table border=\"1\" class=\"dataframe\">\n",
       "  <thead>\n",
       "    <tr style=\"text-align: right;\">\n",
       "      <th></th>\n",
       "      <th>Datetime</th>\n",
       "      <th>user_name</th>\n",
       "      <th>user_location</th>\n",
       "      <th>user_description</th>\n",
       "      <th>tweet</th>\n",
       "      <th>sentiment</th>\n",
       "    </tr>\n",
       "  </thead>\n",
       "  <tbody>\n",
       "    <tr>\n",
       "      <th>0</th>\n",
       "      <td>2020-03-25 06:36:25+00:00</td>\n",
       "      <td>TickWatcher</td>\n",
       "      <td>California, USA</td>\n",
       "      <td>Update for stock earnings, dividend, money flo...</td>\n",
       "      <td>$DG #Dollar General #Options #maxpain Chart, O...</td>\n",
       "      <td>Positive</td>\n",
       "    </tr>\n",
       "    <tr>\n",
       "      <th>1</th>\n",
       "      <td>2020-03-25 06:18:32+00:00</td>\n",
       "      <td>Vista Partners LLC</td>\n",
       "      <td>San Francisco, CA</td>\n",
       "      <td>CA Registered Investment Advisor, Publishes FR...</td>\n",
       "      <td>“Education is not only a ladder of opportunity...</td>\n",
       "      <td>Neutral</td>\n",
       "    </tr>\n",
       "    <tr>\n",
       "      <th>2</th>\n",
       "      <td>2020-03-25 06:05:46+00:00</td>\n",
       "      <td>Capt. Investo</td>\n",
       "      <td>St Petersburg, FL</td>\n",
       "      <td>“The quickest way to double your money is to f...</td>\n",
       "      <td>$GCLT news coming soon #fintech #finance https...</td>\n",
       "      <td>Neutral</td>\n",
       "    </tr>\n",
       "    <tr>\n",
       "      <th>3</th>\n",
       "      <td>2020-03-25 06:35:29+00:00</td>\n",
       "      <td>FFL Tribe</td>\n",
       "      <td>Austin, TX</td>\n",
       "      <td>The Tribe - Family First Life agents on a miss...</td>\n",
       "      <td>That amazing feeling when you finally close a ...</td>\n",
       "      <td>Positive</td>\n",
       "    </tr>\n",
       "    <tr>\n",
       "      <th>4</th>\n",
       "      <td>2020-03-25 06:15:49+00:00</td>\n",
       "      <td>inter_mkt</td>\n",
       "      <td>France</td>\n",
       "      <td>cbpassiveincomes #trading #forex #bitcoin #tra...</td>\n",
       "      <td>From OHM to SHIB: 5 Most Impressive Altcoins o...</td>\n",
       "      <td>Positive</td>\n",
       "    </tr>\n",
       "  </tbody>\n",
       "</table>\n",
       "</div>"
      ],
      "text/plain": [
       "                    Datetime           user_name      user_location  \\\n",
       "0  2020-03-25 06:36:25+00:00         TickWatcher    California, USA   \n",
       "1  2020-03-25 06:18:32+00:00  Vista Partners LLC  San Francisco, CA   \n",
       "2  2020-03-25 06:05:46+00:00       Capt. Investo  St Petersburg, FL   \n",
       "3  2020-03-25 06:35:29+00:00           FFL Tribe         Austin, TX   \n",
       "4  2020-03-25 06:15:49+00:00           inter_mkt             France   \n",
       "\n",
       "                                    user_description  \\\n",
       "0  Update for stock earnings, dividend, money flo...   \n",
       "1  CA Registered Investment Advisor, Publishes FR...   \n",
       "2  “The quickest way to double your money is to f...   \n",
       "3  The Tribe - Family First Life agents on a miss...   \n",
       "4  cbpassiveincomes #trading #forex #bitcoin #tra...   \n",
       "\n",
       "                                               tweet sentiment  \n",
       "0  $DG #Dollar General #Options #maxpain Chart, O...  Positive  \n",
       "1  “Education is not only a ladder of opportunity...   Neutral  \n",
       "2  $GCLT news coming soon #fintech #finance https...   Neutral  \n",
       "3  That amazing feeling when you finally close a ...  Positive  \n",
       "4  From OHM to SHIB: 5 Most Impressive Altcoins o...  Positive  "
      ]
     },
     "execution_count": 5,
     "metadata": {},
     "output_type": "execute_result"
    }
   ],
   "source": [
    "tweets_df.drop_duplicates(subset = ['tweet'], inplace = True)\n",
    "tweets_df.head()"
   ]
  },
  {
   "cell_type": "code",
   "execution_count": 6,
   "metadata": {},
   "outputs": [
    {
     "data": {
      "text/html": [
       "<div>\n",
       "<style scoped>\n",
       "    .dataframe tbody tr th:only-of-type {\n",
       "        vertical-align: middle;\n",
       "    }\n",
       "\n",
       "    .dataframe tbody tr th {\n",
       "        vertical-align: top;\n",
       "    }\n",
       "\n",
       "    .dataframe thead th {\n",
       "        text-align: right;\n",
       "    }\n",
       "</style>\n",
       "<table border=\"1\" class=\"dataframe\">\n",
       "  <thead>\n",
       "    <tr style=\"text-align: right;\">\n",
       "      <th></th>\n",
       "      <th>Datetime</th>\n",
       "      <th>user_name</th>\n",
       "      <th>user_location</th>\n",
       "      <th>user_description</th>\n",
       "      <th>tweet</th>\n",
       "      <th>sentiment</th>\n",
       "    </tr>\n",
       "  </thead>\n",
       "  <tbody>\n",
       "    <tr>\n",
       "      <th>0</th>\n",
       "      <td>2020-03-25 06:36:25+00:00</td>\n",
       "      <td>TickWatcher</td>\n",
       "      <td>California, USA</td>\n",
       "      <td>Update for stock earnings, dividend, money flo...</td>\n",
       "      <td>$DG #Dollar General #Options #maxpain Chart, O...</td>\n",
       "      <td>Positive</td>\n",
       "    </tr>\n",
       "    <tr>\n",
       "      <th>1</th>\n",
       "      <td>2020-03-25 06:18:32+00:00</td>\n",
       "      <td>Vista Partners LLC</td>\n",
       "      <td>San Francisco, CA</td>\n",
       "      <td>CA Registered Investment Advisor, Publishes FR...</td>\n",
       "      <td>“Education is not only a ladder of opportunity...</td>\n",
       "      <td>Neutral</td>\n",
       "    </tr>\n",
       "    <tr>\n",
       "      <th>2</th>\n",
       "      <td>2020-03-25 06:05:46+00:00</td>\n",
       "      <td>Capt. Investo</td>\n",
       "      <td>St Petersburg, FL</td>\n",
       "      <td>“The quickest way to double your money is to f...</td>\n",
       "      <td>$GCLT news coming soon #fintech #finance https...</td>\n",
       "      <td>Neutral</td>\n",
       "    </tr>\n",
       "    <tr>\n",
       "      <th>3</th>\n",
       "      <td>2020-03-25 06:35:29+00:00</td>\n",
       "      <td>FFL Tribe</td>\n",
       "      <td>Austin, TX</td>\n",
       "      <td>The Tribe - Family First Life agents on a miss...</td>\n",
       "      <td>That amazing feeling when you finally close a ...</td>\n",
       "      <td>Positive</td>\n",
       "    </tr>\n",
       "    <tr>\n",
       "      <th>4</th>\n",
       "      <td>2020-03-25 06:15:49+00:00</td>\n",
       "      <td>inter_mkt</td>\n",
       "      <td>France</td>\n",
       "      <td>cbpassiveincomes #trading #forex #bitcoin #tra...</td>\n",
       "      <td>From OHM to SHIB: 5 Most Impressive Altcoins o...</td>\n",
       "      <td>Positive</td>\n",
       "    </tr>\n",
       "  </tbody>\n",
       "</table>\n",
       "</div>"
      ],
      "text/plain": [
       "                    Datetime           user_name      user_location  \\\n",
       "0  2020-03-25 06:36:25+00:00         TickWatcher    California, USA   \n",
       "1  2020-03-25 06:18:32+00:00  Vista Partners LLC  San Francisco, CA   \n",
       "2  2020-03-25 06:05:46+00:00       Capt. Investo  St Petersburg, FL   \n",
       "3  2020-03-25 06:35:29+00:00           FFL Tribe         Austin, TX   \n",
       "4  2020-03-25 06:15:49+00:00           inter_mkt             France   \n",
       "\n",
       "                                    user_description  \\\n",
       "0  Update for stock earnings, dividend, money flo...   \n",
       "1  CA Registered Investment Advisor, Publishes FR...   \n",
       "2  “The quickest way to double your money is to f...   \n",
       "3  The Tribe - Family First Life agents on a miss...   \n",
       "4  cbpassiveincomes #trading #forex #bitcoin #tra...   \n",
       "\n",
       "                                               tweet sentiment  \n",
       "0  $DG #Dollar General #Options #maxpain Chart, O...  Positive  \n",
       "1  “Education is not only a ladder of opportunity...   Neutral  \n",
       "2  $GCLT news coming soon #fintech #finance https...   Neutral  \n",
       "3  That amazing feeling when you finally close a ...  Positive  \n",
       "4  From OHM to SHIB: 5 Most Impressive Altcoins o...  Positive  "
      ]
     },
     "execution_count": 6,
     "metadata": {},
     "output_type": "execute_result"
    }
   ],
   "source": [
    "tweets_df.dropna(inplace = True)\n",
    "tweets_df.head()"
   ]
  },
  {
   "cell_type": "code",
   "execution_count": 7,
   "metadata": {},
   "outputs": [
    {
     "data": {
      "text/plain": [
       "(12524, 6)"
      ]
     },
     "execution_count": 7,
     "metadata": {},
     "output_type": "execute_result"
    }
   ],
   "source": [
    "tweets_df.shape"
   ]
  },
  {
   "cell_type": "code",
   "execution_count": 8,
   "metadata": {},
   "outputs": [],
   "source": [
    "def TextClean(tweet):\n",
    "    tweet = tweet.lower()\n",
    "    tweet = re.sub(r'@[a-z0-9_]\\S+', '', tweet)\n",
    "    tweet = re.sub(r'#[a-z0-9_]\\S+', '', tweet)\n",
    "    tweet = re.sub(r'&[a-z0-9_]\\S+', '', tweet)\n",
    "    tweet = re.sub(r'[?!.+,;$%&\"]+', '', tweet)\n",
    "    tweet = re.sub(r'rt[\\s]+', '', tweet)\n",
    "    tweet = re.sub(r'\\d+', '', tweet)\n",
    "    tweet = re.sub(r'\\$', '', tweet)\n",
    "    tweet = re.sub(r'rt+', '', tweet)\n",
    "    tweet = re.sub(r'https?:?\\/\\/\\S+', '', tweet)\n",
    "    \n",
    "    return tweet"
   ]
  },
  {
   "cell_type": "code",
   "execution_count": 9,
   "metadata": {},
   "outputs": [],
   "source": [
    "tweets_df['Datetime'] = pd.to_datetime(tweets_df['Datetime'])\n",
    "tweets_df.set_index('Datetime', inplace = True)\n",
    "tweets_df.drop_duplicates(subset = ['tweet'], inplace = True)\n",
    "tweets_df['CleanTweet'] = tweets_df['tweet'].apply(TextClean)\n",
    "tweet_tokenizer = TweetTokenizer()\n",
    "tweets_df['CleanTweet'] = tweets_df['CleanTweet'].apply(tweet_tokenizer.tokenize)\n",
    "tweets_df['CleanTweet'] = [', '.join(map(str, token)) for token in tweets_df['CleanTweet']]\n",
    "#tweets_df.to_csv(key_word + '.csv', encoding='utf-8')\n",
    "    \n",
    "  "
   ]
  },
  {
   "cell_type": "markdown",
   "metadata": {},
   "source": [
    "# Vader and TextBlob Sentiment Polarity Score"
   ]
  },
  {
   "cell_type": "code",
   "execution_count": 10,
   "metadata": {},
   "outputs": [],
   "source": [
    "def vader_compound_score(tweet):\n",
    "    vader = SentimentIntensityAnalyzer()\n",
    "    if vader.polarity_scores(tweet)['compound'] >= 0.05:\n",
    "        return 'Positive'\n",
    "    elif vader.polarity_scores(tweet)['compound'] <= -0.05:\n",
    "        return 'Negative'\n",
    "    else:\n",
    "        return 'Neutral'\n",
    "    \n",
    "def textblob_sentiment(tweet):\n",
    "    analysis = TextBlob(tweet)\n",
    "    if analysis.sentiment.polarity > 0:\n",
    "        return 'Positive'\n",
    "    elif analysis.sentiment.polarity == 0:\n",
    "        return 'Neutral'\n",
    "    else:\n",
    "        return 'Negative'"
   ]
  },
  {
   "cell_type": "code",
   "execution_count": 11,
   "metadata": {},
   "outputs": [],
   "source": [
    "tweets_df['Vader_sent'] = tweets_df['CleanTweet'].apply(vader_compound_score)\n",
    "tweets_df['TextBlob_sent'] = tweets_df['CleanTweet'].apply(textblob_sentiment)\n",
    "tweets_df['Different_sent'] = np.where(tweets_df['Vader_sent'] == tweets_df['TextBlob_sent'], 1, 0)\n",
    "tweets_df.to_csv('head.csv', encoding='utf-8')"
   ]
  },
  {
   "cell_type": "code",
   "execution_count": 12,
   "metadata": {},
   "outputs": [
    {
     "data": {
      "text/html": [
       "<div>\n",
       "<style scoped>\n",
       "    .dataframe tbody tr th:only-of-type {\n",
       "        vertical-align: middle;\n",
       "    }\n",
       "\n",
       "    .dataframe tbody tr th {\n",
       "        vertical-align: top;\n",
       "    }\n",
       "\n",
       "    .dataframe thead th {\n",
       "        text-align: right;\n",
       "    }\n",
       "</style>\n",
       "<table border=\"1\" class=\"dataframe\">\n",
       "  <thead>\n",
       "    <tr style=\"text-align: right;\">\n",
       "      <th></th>\n",
       "      <th>user_name</th>\n",
       "      <th>user_location</th>\n",
       "      <th>user_description</th>\n",
       "      <th>tweet</th>\n",
       "      <th>sentiment</th>\n",
       "      <th>CleanTweet</th>\n",
       "      <th>Vader_sent</th>\n",
       "      <th>TextBlob_sent</th>\n",
       "      <th>Different_sent</th>\n",
       "    </tr>\n",
       "    <tr>\n",
       "      <th>Datetime</th>\n",
       "      <th></th>\n",
       "      <th></th>\n",
       "      <th></th>\n",
       "      <th></th>\n",
       "      <th></th>\n",
       "      <th></th>\n",
       "      <th></th>\n",
       "      <th></th>\n",
       "      <th></th>\n",
       "    </tr>\n",
       "  </thead>\n",
       "  <tbody>\n",
       "    <tr>\n",
       "      <th>2020-03-25 06:36:25+00:00</th>\n",
       "      <td>TickWatcher</td>\n",
       "      <td>California, USA</td>\n",
       "      <td>Update for stock earnings, dividend, money flo...</td>\n",
       "      <td>$DG #Dollar General #Options #maxpain Chart, O...</td>\n",
       "      <td>Positive</td>\n",
       "      <td>dg, general, chaopen, interest, chaupdate</td>\n",
       "      <td>Positive</td>\n",
       "      <td>Positive</td>\n",
       "      <td>1</td>\n",
       "    </tr>\n",
       "    <tr>\n",
       "      <th>2020-03-25 06:18:32+00:00</th>\n",
       "      <td>Vista Partners LLC</td>\n",
       "      <td>San Francisco, CA</td>\n",
       "      <td>CA Registered Investment Advisor, Publishes FR...</td>\n",
       "      <td>“Education is not only a ladder of opportunity...</td>\n",
       "      <td>Neutral</td>\n",
       "      <td>“, education, is, not, only, a, ladder, of, op...</td>\n",
       "      <td>Neutral</td>\n",
       "      <td>Neutral</td>\n",
       "      <td>1</td>\n",
       "    </tr>\n",
       "    <tr>\n",
       "      <th>2020-03-25 06:05:46+00:00</th>\n",
       "      <td>Capt. Investo</td>\n",
       "      <td>St Petersburg, FL</td>\n",
       "      <td>“The quickest way to double your money is to f...</td>\n",
       "      <td>$GCLT news coming soon #fintech #finance https...</td>\n",
       "      <td>Neutral</td>\n",
       "      <td>gclt, news, coming, soon</td>\n",
       "      <td>Neutral</td>\n",
       "      <td>Neutral</td>\n",
       "      <td>1</td>\n",
       "    </tr>\n",
       "    <tr>\n",
       "      <th>2020-03-25 06:35:29+00:00</th>\n",
       "      <td>FFL Tribe</td>\n",
       "      <td>Austin, TX</td>\n",
       "      <td>The Tribe - Family First Life agents on a miss...</td>\n",
       "      <td>That amazing feeling when you finally close a ...</td>\n",
       "      <td>Positive</td>\n",
       "      <td>that, amazing, feeling, when, you, finally, cl...</td>\n",
       "      <td>Positive</td>\n",
       "      <td>Positive</td>\n",
       "      <td>1</td>\n",
       "    </tr>\n",
       "    <tr>\n",
       "      <th>2020-03-25 06:15:49+00:00</th>\n",
       "      <td>inter_mkt</td>\n",
       "      <td>France</td>\n",
       "      <td>cbpassiveincomes #trading #forex #bitcoin #tra...</td>\n",
       "      <td>From OHM to SHIB: 5 Most Impressive Altcoins o...</td>\n",
       "      <td>Positive</td>\n",
       "      <td>from, ohm, to, shib, :, most, impressive, altc...</td>\n",
       "      <td>Positive</td>\n",
       "      <td>Positive</td>\n",
       "      <td>1</td>\n",
       "    </tr>\n",
       "  </tbody>\n",
       "</table>\n",
       "</div>"
      ],
      "text/plain": [
       "                                    user_name      user_location  \\\n",
       "Datetime                                                           \n",
       "2020-03-25 06:36:25+00:00         TickWatcher    California, USA   \n",
       "2020-03-25 06:18:32+00:00  Vista Partners LLC  San Francisco, CA   \n",
       "2020-03-25 06:05:46+00:00       Capt. Investo  St Petersburg, FL   \n",
       "2020-03-25 06:35:29+00:00           FFL Tribe         Austin, TX   \n",
       "2020-03-25 06:15:49+00:00           inter_mkt             France   \n",
       "\n",
       "                                                            user_description  \\\n",
       "Datetime                                                                       \n",
       "2020-03-25 06:36:25+00:00  Update for stock earnings, dividend, money flo...   \n",
       "2020-03-25 06:18:32+00:00  CA Registered Investment Advisor, Publishes FR...   \n",
       "2020-03-25 06:05:46+00:00  “The quickest way to double your money is to f...   \n",
       "2020-03-25 06:35:29+00:00  The Tribe - Family First Life agents on a miss...   \n",
       "2020-03-25 06:15:49+00:00  cbpassiveincomes #trading #forex #bitcoin #tra...   \n",
       "\n",
       "                                                                       tweet  \\\n",
       "Datetime                                                                       \n",
       "2020-03-25 06:36:25+00:00  $DG #Dollar General #Options #maxpain Chart, O...   \n",
       "2020-03-25 06:18:32+00:00  “Education is not only a ladder of opportunity...   \n",
       "2020-03-25 06:05:46+00:00  $GCLT news coming soon #fintech #finance https...   \n",
       "2020-03-25 06:35:29+00:00  That amazing feeling when you finally close a ...   \n",
       "2020-03-25 06:15:49+00:00  From OHM to SHIB: 5 Most Impressive Altcoins o...   \n",
       "\n",
       "                          sentiment  \\\n",
       "Datetime                              \n",
       "2020-03-25 06:36:25+00:00  Positive   \n",
       "2020-03-25 06:18:32+00:00   Neutral   \n",
       "2020-03-25 06:05:46+00:00   Neutral   \n",
       "2020-03-25 06:35:29+00:00  Positive   \n",
       "2020-03-25 06:15:49+00:00  Positive   \n",
       "\n",
       "                                                                  CleanTweet  \\\n",
       "Datetime                                                                       \n",
       "2020-03-25 06:36:25+00:00          dg, general, chaopen, interest, chaupdate   \n",
       "2020-03-25 06:18:32+00:00  “, education, is, not, only, a, ladder, of, op...   \n",
       "2020-03-25 06:05:46+00:00                           gclt, news, coming, soon   \n",
       "2020-03-25 06:35:29+00:00  that, amazing, feeling, when, you, finally, cl...   \n",
       "2020-03-25 06:15:49+00:00  from, ohm, to, shib, :, most, impressive, altc...   \n",
       "\n",
       "                          Vader_sent TextBlob_sent  Different_sent  \n",
       "Datetime                                                            \n",
       "2020-03-25 06:36:25+00:00   Positive      Positive               1  \n",
       "2020-03-25 06:18:32+00:00    Neutral       Neutral               1  \n",
       "2020-03-25 06:05:46+00:00    Neutral       Neutral               1  \n",
       "2020-03-25 06:35:29+00:00   Positive      Positive               1  \n",
       "2020-03-25 06:15:49+00:00   Positive      Positive               1  "
      ]
     },
     "execution_count": 12,
     "metadata": {},
     "output_type": "execute_result"
    }
   ],
   "source": [
    "tweets_df.head()"
   ]
  },
  {
   "cell_type": "code",
   "execution_count": 13,
   "metadata": {},
   "outputs": [],
   "source": [
    "#Visualisation\n",
    "vader_pie = [len(tweets_df[tweets_df['Vader_sent'] == 'Positive']), \n",
    "             len(tweets_df[tweets_df['Vader_sent'] == 'Negative']), \n",
    "             len(tweets_df[tweets_df['Vader_sent'] == 'Neutral'])]\n",
    "blob_pie = [len(tweets_df[tweets_df['TextBlob_sent'] == 'Positive']), \n",
    "            len(tweets_df[tweets_df['TextBlob_sent'] == 'Negative']), \n",
    "            len(tweets_df[tweets_df['TextBlob_sent'] == 'Neutral'])]\n",
    "labels = ['Positive', 'Negative', 'Neutral']\n",
    "colors = ['aquamarine', 'tomato', 'skyblue']"
   ]
  },
  {
   "cell_type": "code",
   "execution_count": 14,
   "metadata": {},
   "outputs": [
    {
     "name": "stdout",
     "output_type": "stream",
     "text": [
      "7643 times two approaches show different results\n"
     ]
    },
    {
     "data": {
      "text/plain": [
       "Text(0.5, 1.0, 'TextBlob')"
      ]
     },
     "execution_count": 14,
     "metadata": {},
     "output_type": "execute_result"
    },
    {
     "data": {
      "image/png": "[encoded data removed]",
      "text/plain": [
       "<Figure size 1440x720 with 2 Axes>"
      ]
     },
     "metadata": {},
     "output_type": "display_data"
    }
   ],
   "source": [
    "print(len(tweets_df[tweets_df['Different_sent'] == 1]), 'times two approaches show different results')\n",
    "\n",
    "plt.style.use('ggplot')\n",
    "plt.figure(figsize = (20, 10))\n",
    "plt.subplot(1, 2, 1)\n",
    "plt.pie(vader_pie, labels = labels, colors = colors, autopct = '%1.1f%%')\n",
    "plt.title('Vader')\n",
    "\n",
    "plt.subplot(1, 2, 2)\n",
    "plt.pie(blob_pie, labels = labels, colors = colors, autopct = '%1.1f%%')\n",
    "plt.title('TextBlob')"
   ]
  },
  {
   "cell_type": "code",
   "execution_count": 15,
   "metadata": {},
   "outputs": [
    {
     "name": "stdout",
     "output_type": "stream",
     "text": [
      "Accuracy of Vader approach is: 61.02682848930054 %\n"
     ]
    }
   ],
   "source": [
    "print('Accuracy of Vader approach is:', (len(tweets_df[tweets_df['Different_sent'] == 1]) / len(tweets_df)) * 100, '%')"
   ]
  },
  {
   "cell_type": "code",
   "execution_count": null,
   "metadata": {},
   "outputs": [],
   "source": []
  },
  {
   "cell_type": "code",
   "execution_count": null,
   "metadata": {},
   "outputs": [],
   "source": []
  }
 ],
 "metadata": {
  "kernelspec": {
   "display_name": "Python 3",
   "language": "python",
   "name": "python3"
  },
  "language_info": {
   "codemirror_mode": {
    "name": "ipython",
    "version": 3
   },
   "file_extension": ".py",
   "mimetype": "text/x-python",
   "name": "python",
   "nbconvert_exporter": "python",
   "pygments_lexer": "ipython3",
   "version": "3.8.8"
  }
 },
 "nbformat": 4,
 "nbformat_minor": 4
}
